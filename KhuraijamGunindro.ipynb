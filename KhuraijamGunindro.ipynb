{
 "cells": [
  {
   "cell_type": "markdown",
   "metadata": {},
   "source": [
    "# Lending club case study"
   ]
  },
  {
   "cell_type": "markdown",
   "metadata": {},
   "source": [
    "### Problem statement:\n",
    "A consumer finance company specialized in lending various types of loans to urban customers. \n",
    "The goal is to identify factors indicating whether a person is likely to default on a loan based on the previous customer datas.\n",
    "\n",
    "### Approach: \n",
    "In addressing the challenge of identifying key factors driving loan default, we'll adopt a systematic approach to pinpoint potential drivers and understand their impact. This is a predictive exploratory analysis focused on determining the variables influencing loan default rather than projecting future outcomes.\n",
    "\n",
    "### Data Understanding:\n",
    "We have been given complete loan data for all loans issued through the time period 2007 t0 2011."
   ]
  },
  {
   "cell_type": "code",
   "execution_count": null,
   "metadata": {},
   "outputs": [],
   "source": []
  }
 ],
 "metadata": {
  "language_info": {
   "name": "python"
  }
 },
 "nbformat": 4,
 "nbformat_minor": 2
}
